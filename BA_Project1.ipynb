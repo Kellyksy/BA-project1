{
 "cells": [
  {
   "cell_type": "code",
   "execution_count": 2,
   "id": "ae2c8520",
   "metadata": {
    "scrolled": true
   },
   "outputs": [
    {
     "name": "stderr",
     "output_type": "stream",
     "text": [
      "/var/folders/6h/p0xzr_zs7hxf012d587r5pb80000gn/T/ipykernel_51321/651163044.py:5: DtypeWarning: Columns (3) have mixed types. Specify dtype option on import or set low_memory=False.\n",
      "  df = pd.read_csv(file_path)\n"
     ]
    }
   ],
   "source": [
    "import pandas as pd\n",
    "\n",
    "# Load the dataset\n",
    "file_path = '/Users/kelly/Downloads/Motor_Vehicle_Collisions_-_Crashes_20240226.csv'\n",
    "df = pd.read_csv(file_path)\n"
   ]
  },
  {
   "cell_type": "code",
   "execution_count": 10,
   "id": "d9ff021a",
   "metadata": {},
   "outputs": [
    {
     "data": {
      "text/html": [
       "<div>\n",
       "<style scoped>\n",
       "    .dataframe tbody tr th:only-of-type {\n",
       "        vertical-align: middle;\n",
       "    }\n",
       "\n",
       "    .dataframe tbody tr th {\n",
       "        vertical-align: top;\n",
       "    }\n",
       "\n",
       "    .dataframe thead th {\n",
       "        text-align: right;\n",
       "    }\n",
       "</style>\n",
       "<table border=\"1\" class=\"dataframe\">\n",
       "  <thead>\n",
       "    <tr style=\"text-align: right;\">\n",
       "      <th></th>\n",
       "      <th>CRASH DATE</th>\n",
       "      <th>CRASH TIME</th>\n",
       "      <th>BOROUGH</th>\n",
       "      <th>ZIP CODE</th>\n",
       "      <th>LATITUDE</th>\n",
       "      <th>LONGITUDE</th>\n",
       "      <th>LOCATION</th>\n",
       "      <th>ON STREET NAME</th>\n",
       "      <th>CROSS STREET NAME</th>\n",
       "      <th>OFF STREET NAME</th>\n",
       "      <th>...</th>\n",
       "      <th>CONTRIBUTING FACTOR VEHICLE 2</th>\n",
       "      <th>CONTRIBUTING FACTOR VEHICLE 3</th>\n",
       "      <th>CONTRIBUTING FACTOR VEHICLE 4</th>\n",
       "      <th>CONTRIBUTING FACTOR VEHICLE 5</th>\n",
       "      <th>COLLISION_ID</th>\n",
       "      <th>VEHICLE TYPE CODE 1</th>\n",
       "      <th>VEHICLE TYPE CODE 2</th>\n",
       "      <th>VEHICLE TYPE CODE 3</th>\n",
       "      <th>VEHICLE TYPE CODE 4</th>\n",
       "      <th>VEHICLE TYPE CODE 5</th>\n",
       "    </tr>\n",
       "  </thead>\n",
       "  <tbody>\n",
       "    <tr>\n",
       "      <th>0</th>\n",
       "      <td>2021-09-11</td>\n",
       "      <td>2:39</td>\n",
       "      <td>NaN</td>\n",
       "      <td>NaN</td>\n",
       "      <td>NaN</td>\n",
       "      <td>NaN</td>\n",
       "      <td>NaN</td>\n",
       "      <td>WHITESTONE EXPRESSWAY</td>\n",
       "      <td>20 AVENUE</td>\n",
       "      <td>NaN</td>\n",
       "      <td>...</td>\n",
       "      <td>Unspecified</td>\n",
       "      <td>NaN</td>\n",
       "      <td>NaN</td>\n",
       "      <td>NaN</td>\n",
       "      <td>4455765</td>\n",
       "      <td>Sedan</td>\n",
       "      <td>Sedan</td>\n",
       "      <td>NaN</td>\n",
       "      <td>NaN</td>\n",
       "      <td>NaN</td>\n",
       "    </tr>\n",
       "    <tr>\n",
       "      <th>1</th>\n",
       "      <td>2022-03-26</td>\n",
       "      <td>11:45</td>\n",
       "      <td>NaN</td>\n",
       "      <td>NaN</td>\n",
       "      <td>NaN</td>\n",
       "      <td>NaN</td>\n",
       "      <td>NaN</td>\n",
       "      <td>QUEENSBORO BRIDGE UPPER</td>\n",
       "      <td>NaN</td>\n",
       "      <td>NaN</td>\n",
       "      <td>...</td>\n",
       "      <td>NaN</td>\n",
       "      <td>NaN</td>\n",
       "      <td>NaN</td>\n",
       "      <td>NaN</td>\n",
       "      <td>4513547</td>\n",
       "      <td>Sedan</td>\n",
       "      <td>NaN</td>\n",
       "      <td>NaN</td>\n",
       "      <td>NaN</td>\n",
       "      <td>NaN</td>\n",
       "    </tr>\n",
       "    <tr>\n",
       "      <th>2</th>\n",
       "      <td>2022-06-29</td>\n",
       "      <td>6:55</td>\n",
       "      <td>NaN</td>\n",
       "      <td>NaN</td>\n",
       "      <td>NaN</td>\n",
       "      <td>NaN</td>\n",
       "      <td>NaN</td>\n",
       "      <td>THROGS NECK BRIDGE</td>\n",
       "      <td>NaN</td>\n",
       "      <td>NaN</td>\n",
       "      <td>...</td>\n",
       "      <td>Unspecified</td>\n",
       "      <td>NaN</td>\n",
       "      <td>NaN</td>\n",
       "      <td>NaN</td>\n",
       "      <td>4541903</td>\n",
       "      <td>Sedan</td>\n",
       "      <td>Pick-up Truck</td>\n",
       "      <td>NaN</td>\n",
       "      <td>NaN</td>\n",
       "      <td>NaN</td>\n",
       "    </tr>\n",
       "    <tr>\n",
       "      <th>3</th>\n",
       "      <td>2021-09-11</td>\n",
       "      <td>9:35</td>\n",
       "      <td>BROOKLYN</td>\n",
       "      <td>11208.0</td>\n",
       "      <td>40.667202</td>\n",
       "      <td>-73.866500</td>\n",
       "      <td>(40.667202, -73.8665)</td>\n",
       "      <td>NaN</td>\n",
       "      <td>NaN</td>\n",
       "      <td>1211      LORING AVENUE</td>\n",
       "      <td>...</td>\n",
       "      <td>NaN</td>\n",
       "      <td>NaN</td>\n",
       "      <td>NaN</td>\n",
       "      <td>NaN</td>\n",
       "      <td>4456314</td>\n",
       "      <td>Sedan</td>\n",
       "      <td>NaN</td>\n",
       "      <td>NaN</td>\n",
       "      <td>NaN</td>\n",
       "      <td>NaN</td>\n",
       "    </tr>\n",
       "    <tr>\n",
       "      <th>4</th>\n",
       "      <td>2021-12-14</td>\n",
       "      <td>8:13</td>\n",
       "      <td>BROOKLYN</td>\n",
       "      <td>11233.0</td>\n",
       "      <td>40.683304</td>\n",
       "      <td>-73.917274</td>\n",
       "      <td>(40.683304, -73.917274)</td>\n",
       "      <td>SARATOGA AVENUE</td>\n",
       "      <td>DECATUR STREET</td>\n",
       "      <td>NaN</td>\n",
       "      <td>...</td>\n",
       "      <td>NaN</td>\n",
       "      <td>NaN</td>\n",
       "      <td>NaN</td>\n",
       "      <td>NaN</td>\n",
       "      <td>4486609</td>\n",
       "      <td>NaN</td>\n",
       "      <td>NaN</td>\n",
       "      <td>NaN</td>\n",
       "      <td>NaN</td>\n",
       "      <td>NaN</td>\n",
       "    </tr>\n",
       "  </tbody>\n",
       "</table>\n",
       "<p>5 rows × 29 columns</p>\n",
       "</div>"
      ],
      "text/plain": [
       "  CRASH DATE CRASH TIME   BOROUGH ZIP CODE   LATITUDE  LONGITUDE  \\\n",
       "0 2021-09-11       2:39       NaN      NaN        NaN        NaN   \n",
       "1 2022-03-26      11:45       NaN      NaN        NaN        NaN   \n",
       "2 2022-06-29       6:55       NaN      NaN        NaN        NaN   \n",
       "3 2021-09-11       9:35  BROOKLYN  11208.0  40.667202 -73.866500   \n",
       "4 2021-12-14       8:13  BROOKLYN  11233.0  40.683304 -73.917274   \n",
       "\n",
       "                  LOCATION           ON STREET NAME CROSS STREET NAME  \\\n",
       "0                      NaN    WHITESTONE EXPRESSWAY         20 AVENUE   \n",
       "1                      NaN  QUEENSBORO BRIDGE UPPER               NaN   \n",
       "2                      NaN       THROGS NECK BRIDGE               NaN   \n",
       "3    (40.667202, -73.8665)                      NaN               NaN   \n",
       "4  (40.683304, -73.917274)          SARATOGA AVENUE    DECATUR STREET   \n",
       "\n",
       "           OFF STREET NAME  ...  CONTRIBUTING FACTOR VEHICLE 2  \\\n",
       "0                      NaN  ...                    Unspecified   \n",
       "1                      NaN  ...                            NaN   \n",
       "2                      NaN  ...                    Unspecified   \n",
       "3  1211      LORING AVENUE  ...                            NaN   \n",
       "4                      NaN  ...                            NaN   \n",
       "\n",
       "   CONTRIBUTING FACTOR VEHICLE 3  CONTRIBUTING FACTOR VEHICLE 4  \\\n",
       "0                            NaN                            NaN   \n",
       "1                            NaN                            NaN   \n",
       "2                            NaN                            NaN   \n",
       "3                            NaN                            NaN   \n",
       "4                            NaN                            NaN   \n",
       "\n",
       "   CONTRIBUTING FACTOR VEHICLE 5  COLLISION_ID  VEHICLE TYPE CODE 1  \\\n",
       "0                            NaN       4455765                Sedan   \n",
       "1                            NaN       4513547                Sedan   \n",
       "2                            NaN       4541903                Sedan   \n",
       "3                            NaN       4456314                Sedan   \n",
       "4                            NaN       4486609                  NaN   \n",
       "\n",
       "   VEHICLE TYPE CODE 2  VEHICLE TYPE CODE 3 VEHICLE TYPE CODE 4  \\\n",
       "0                Sedan                  NaN                 NaN   \n",
       "1                  NaN                  NaN                 NaN   \n",
       "2        Pick-up Truck                  NaN                 NaN   \n",
       "3                  NaN                  NaN                 NaN   \n",
       "4                  NaN                  NaN                 NaN   \n",
       "\n",
       "  VEHICLE TYPE CODE 5  \n",
       "0                 NaN  \n",
       "1                 NaN  \n",
       "2                 NaN  \n",
       "3                 NaN  \n",
       "4                 NaN  \n",
       "\n",
       "[5 rows x 29 columns]"
      ]
     },
     "execution_count": 10,
     "metadata": {},
     "output_type": "execute_result"
    }
   ],
   "source": [
    "df.head()"
   ]
  },
  {
   "cell_type": "code",
   "execution_count": 3,
   "id": "58469961",
   "metadata": {},
   "outputs": [
    {
     "data": {
      "text/plain": [
       "('Driver Inattention/Distraction', 413525, 0.30332047997288986)"
      ]
     },
     "execution_count": 3,
     "metadata": {},
     "output_type": "execute_result"
    }
   ],
   "source": [
    "# Convert 'CRASH DATE' column to datetime format\n",
    "df['CRASH DATE'] = pd.to_datetime(df['CRASH DATE'])\n",
    "# Filter the data to include only crashes since July 2012\n",
    "df_since_july_2012 = df[df['CRASH DATE'] >= '2012-07-01']\n",
    "\n",
    "# Remove rows where 'CONTRIBUTING FACTOR VEHICLE 1' is 'Unspecified'\n",
    "df_known_factors = df_since_july_2012[df_since_july_2012['CONTRIBUTING FACTOR VEHICLE 1'] != 'Unspecified']\n",
    "\n",
    "# Find the leading cause of crashes\n",
    "leading_cause = df_known_factors['CONTRIBUTING FACTOR VEHICLE 1'].value_counts().idxmax()\n",
    "leading_cause_count = df_known_factors['CONTRIBUTING FACTOR VEHICLE 1'].value_counts().max()\n",
    "\n",
    "# Calculate the proportion of accidents attributable to the leading cause\n",
    "total_accidents = df_known_factors.shape[0]\n",
    "proportion = leading_cause_count / total_accidents\n",
    "\n",
    "leading_cause, leading_cause_count, proportion\n"
   ]
  },
  {
   "cell_type": "code",
   "execution_count": 4,
   "id": "703a44a0",
   "metadata": {},
   "outputs": [],
   "source": [
    "causes = df_known_factors['CONTRIBUTING FACTOR VEHICLE 1'].value_counts()"
   ]
  },
  {
   "cell_type": "code",
   "execution_count": 8,
   "id": "d647c99e",
   "metadata": {},
   "outputs": [
    {
     "data": {
      "text/plain": [
       "Driver Inattention/Distraction                           413525\n",
       "Failure to Yield Right-of-Way                            122769\n",
       "Following Too Closely                                    110471\n",
       "Backing Unsafely                                          76509\n",
       "Other Vehicular                                           64185\n",
       "Passing or Lane Usage Improper                            57562\n",
       "Passing Too Closely                                       51464\n",
       "Turning Improperly                                        51070\n",
       "Fatigued/Drowsy                                           47396\n",
       "Unsafe Lane Changing                                      40626\n",
       "Traffic Control Disregarded                               36673\n",
       "Driver Inexperience                                       32358\n",
       "Unsafe Speed                                              28851\n",
       "Alcohol Involvement                                       22586\n",
       "Lost Consciousness                                        20476\n",
       "Reaction to Uninvolved Vehicle                            20056\n",
       "Pavement Slippery                                         19746\n",
       "Prescription Medication                                   15413\n",
       "View Obstructed/Limited                                   13656\n",
       "Outside Car Distraction                                   12785\n",
       "Oversized Vehicle                                         12550\n",
       "Aggressive Driving/Road Rage                               9759\n",
       "Pedestrian/Bicyclist/Other Pedestrian Error/Confusion      9652\n",
       "Physical Disability                                        9360\n",
       "Passenger Distraction                                      8042\n",
       "Brakes Defective                                           6911\n",
       "Fell Asleep                                                5664\n",
       "Obstruction/Debris                                         4263\n",
       "Glare                                                      4113\n",
       "Failure to Keep Right                                      3302\n",
       "Steering Failure                                           2873\n",
       "Tire Failure/Inadequate                                    2527\n",
       "Pavement Defective                                         2446\n",
       "Other Electronic Device                                    2335\n",
       "Illness                                                    2158\n",
       "Illnes                                                     1678\n",
       "Animals Action                                             1567\n",
       "Reaction to Other Uninvolved Vehicle                       1337\n",
       "Driverless/Runaway Vehicle                                 1264\n",
       "Accelerator Defective                                      1087\n",
       "Lane Marking Improper/Inadequate                            990\n",
       "Drugs (illegal)                                             874\n",
       "Traffic Control Device Improper/Non-Working                 864\n",
       "Cell Phone (hand-Held)                                      528\n",
       "Drugs (Illegal)                                             419\n",
       "Cell Phone (hands-free)                                     269\n",
       "Tow Hitch Defective                                         220\n",
       "Other Lighting Defects                                      189\n",
       "Tinted Windows                                              175\n",
       "Using On Board Navigation Device                            153\n",
       "Headlights Defective                                        137\n",
       "Vehicle Vandalism                                           137\n",
       "Eating or Drinking                                          123\n",
       "80                                                          101\n",
       "Shoulders Defective/Improper                                 90\n",
       "Windshield Inadequate                                        80\n",
       "Cell Phone (hand-held)                                       79\n",
       "Texting                                                      51\n",
       "Listening/Using Headphones                                   24\n",
       "1                                                            10\n",
       "Name: CONTRIBUTING FACTOR VEHICLE 1, dtype: int64"
      ]
     },
     "execution_count": 8,
     "metadata": {},
     "output_type": "execute_result"
    }
   ],
   "source": [
    "causes"
   ]
  },
  {
   "cell_type": "code",
   "execution_count": 6,
   "id": "f105a750",
   "metadata": {},
   "outputs": [],
   "source": [
    "causes_sum = causes.sum()"
   ]
  },
  {
   "cell_type": "code",
   "execution_count": 7,
   "id": "abe01502",
   "metadata": {},
   "outputs": [
    {
     "data": {
      "text/plain": [
       "1356578"
      ]
     },
     "execution_count": 7,
     "metadata": {},
     "output_type": "execute_result"
    }
   ],
   "source": [
    "causes_sum"
   ]
  },
  {
   "cell_type": "code",
   "execution_count": 9,
   "id": "04b98259",
   "metadata": {},
   "outputs": [
    {
     "data": {
      "text/plain": [
       "92"
      ]
     },
     "execution_count": 9,
     "metadata": {},
     "output_type": "execute_result"
    }
   ],
   "source": [
    "df_since_july_2012['NUMBER OF PERSONS KILLED'] = df_since_july_2012['NUMBER OF PERSONS KILLED'].fillna(0)\n",
    "\n",
    "# Filter the data for accidents with two or more fatalities\n",
    "df_two_or_more_fatalities = df_since_july_2012[df_since_july_2012['NUMBER OF PERSONS KILLED'] >= 2]\n",
    "\n",
    "# Count the number of accidents with two or more fatalities\n",
    "total_accidents_two_or_more_fatalities = df_two_or_more_fatalities.shape[0]\n",
    "\n",
    "total_accidents_two_or_more_fatalities"
   ]
  },
  {
   "cell_type": "code",
   "execution_count": 11,
   "id": "63e818de",
   "metadata": {},
   "outputs": [
    {
     "data": {
      "text/plain": [
       "1.4286660513652585"
      ]
     },
     "execution_count": 11,
     "metadata": {},
     "output_type": "execute_result"
    }
   ],
   "source": [
    "df_at_least_one_fatality = df_since_july_2012[df_since_july_2012['NUMBER OF PERSONS KILLED'] >= 1]\n",
    "\n",
    "# Count the number of accidents with at least one fatality\n",
    "total_accidents_at_least_one_fatality = df_at_least_one_fatality.shape[0]\n",
    "\n",
    "# Calculate the total number of accidents\n",
    "total_accidents = df_since_july_2012.shape[0]\n",
    "\n",
    "# Calculate the average number of accidents with at least one fatality per 1000 accidents\n",
    "average_fatal_accidents_per_1000 = (total_accidents_at_least_one_fatality / total_accidents) * 1000\n",
    "\n",
    "average_fatal_accidents_per_1000"
   ]
  },
  {
   "cell_type": "code",
   "execution_count": 12,
   "id": "b14e328d",
   "metadata": {},
   "outputs": [
    {
     "data": {
      "text/plain": [
       "0.37751303808857534"
      ]
     },
     "execution_count": 12,
     "metadata": {},
     "output_type": "execute_result"
    }
   ],
   "source": [
    "missing_cross_street_count = df_since_july_2012['CROSS STREET NAME'].isna().sum()\n",
    "\n",
    "# Calculate the proportion of accidents without a Cross Street Name\n",
    "proportion_missing_cross_street = missing_cross_street_count / total_accidents\n",
    "\n",
    "proportion_missing_cross_street"
   ]
  },
  {
   "cell_type": "code",
   "execution_count": 13,
   "id": "31756ef9",
   "metadata": {},
   "outputs": [
    {
     "data": {
      "text/plain": [
       "(('Sedan', 'Sedan'), 204861)"
      ]
     },
     "execution_count": 13,
     "metadata": {},
     "output_type": "execute_result"
    }
   ],
   "source": [
    "vehicle_combination_counts = df_since_july_2012.groupby(['VEHICLE TYPE CODE 1', 'VEHICLE TYPE CODE 2']).size().sort_values(ascending=False)\n",
    "\n",
    "# Get the combination with the most number of accidents\n",
    "most_common_vehicle_combination = vehicle_combination_counts.index[0]\n",
    "most_common_vehicle_combination_count = vehicle_combination_counts.iloc[0]\n",
    "\n",
    "most_common_vehicle_combination, most_common_vehicle_combination_count"
   ]
  },
  {
   "cell_type": "code",
   "execution_count": 14,
   "id": "614716e8",
   "metadata": {},
   "outputs": [
    {
     "data": {
      "text/plain": [
       "0.004648897547153104"
      ]
     },
     "execution_count": 14,
     "metadata": {},
     "output_type": "execute_result"
    }
   ],
   "source": [
    "# Filter the data for accidents with alcohol involvement as the contributing factor\n",
    "df_alcohol_involved = df_since_july_2012[df_since_july_2012['CONTRIBUTING FACTOR VEHICLE 1'] == 'Alcohol Involvement']\n",
    "\n",
    "# Count the number of accidents with alcohol involvement and at least one fatality\n",
    "alcohol_involved_fatalities = df_alcohol_involved[df_alcohol_involved['NUMBER OF PERSONS KILLED'] >= 1].shape[0]\n",
    "\n",
    "# Calculate the proportion of alcohol-involved accidents that resulted in a fatality\n",
    "proportion_alcohol_involved_fatalities = alcohol_involved_fatalities / df_alcohol_involved.shape[0]\n",
    "\n",
    "proportion_alcohol_involved_fatalities\n"
   ]
  },
  {
   "cell_type": "code",
   "execution_count": 15,
   "id": "82cdf36d",
   "metadata": {},
   "outputs": [
    {
     "data": {
      "text/plain": [
       "0.20445879180782098"
      ]
     },
     "execution_count": 15,
     "metadata": {},
     "output_type": "execute_result"
    }
   ],
   "source": [
    "# Extract hour from 'CRASH TIME' and create a new column\n",
    "df_since_july_2012['CRASH HOUR'] = pd.to_datetime(df_since_july_2012['CRASH TIME']).dt.hour\n",
    "\n",
    "# Filter the data for accidents occurring between 4 PM and 6:59 PM (inclusive)\n",
    "df_evening_rush_hour = df_since_july_2012[(df_since_july_2012['CRASH HOUR'] >= 16) & (df_since_july_2012['CRASH HOUR'] < 19)]\n",
    "\n",
    "# Calculate the proportion of accidents occurring during the evening rush hour\n",
    "proportion_evening_rush_hour = df_evening_rush_hour.shape[0] / total_accidents\n",
    "\n",
    "proportion_evening_rush_hour"
   ]
  },
  {
   "cell_type": "code",
   "execution_count": 16,
   "id": "f98f539f",
   "metadata": {},
   "outputs": [
    {
     "data": {
      "text/plain": [
       "0.5635715876196838"
      ]
     },
     "execution_count": 16,
     "metadata": {},
     "output_type": "execute_result"
    }
   ],
   "source": [
    "# Filter the data for accidents involving motorcycles\n",
    "df_motorcycle_involved = df_since_july_2012[(df_since_july_2012['VEHICLE TYPE CODE 1'].str.contains('MOTORCYCLE', case=False, na=False)) | \n",
    "                                            (df_since_july_2012['VEHICLE TYPE CODE 2'].str.contains('MOTORCYCLE', case=False, na=False))]\n",
    "\n",
    "# Count the number of motorcycle-involved accidents with injuries but no fatalities\n",
    "motorcycle_injuries_no_fatalities = df_motorcycle_involved[(df_motorcycle_involved['NUMBER OF PERSONS INJURED'] > 0) & \n",
    "                                                           (df_motorcycle_involved['NUMBER OF PERSONS KILLED'] == 0)].shape[0]\n",
    "\n",
    "# Calculate the proportion of motorcycle-involved accidents resulting in injuries but no fatalities\n",
    "proportion_motorcycle_injuries_no_fatalities = motorcycle_injuries_no_fatalities / df_motorcycle_involved.shape[0]\n",
    "\n",
    "proportion_motorcycle_injuries_no_fatalities\n"
   ]
  },
  {
   "cell_type": "code",
   "execution_count": 18,
   "id": "b59df512",
   "metadata": {},
   "outputs": [
    {
     "data": {
      "text/plain": [
       "19108"
      ]
     },
     "execution_count": 18,
     "metadata": {},
     "output_type": "execute_result"
    }
   ],
   "source": [
    "# Count the number of accidents involving bicycles\n",
    "bicycle_involved_count = df_since_july_2012[(df_since_july_2012['VEHICLE TYPE CODE 1'].str.contains('BICYCLE', case=False, na=False)) | \n",
    "                                            (df_since_july_2012['VEHICLE TYPE CODE 2'].str.contains('BICYCLE', case=False, na=False))].shape[0]\n",
    "\n",
    "bicycle_involved_count\n"
   ]
  },
  {
   "cell_type": "code",
   "execution_count": 19,
   "id": "e724d523",
   "metadata": {},
   "outputs": [
    {
     "data": {
      "text/plain": [
       "0.37751303808857534"
      ]
     },
     "execution_count": 19,
     "metadata": {},
     "output_type": "execute_result"
    }
   ],
   "source": [
    "# Count the number of accidents with missing 'CROSS STREET NAME'\n",
    "missing_cross_street_count = df_since_july_2012['CROSS STREET NAME'].isna().sum()\n",
    "\n",
    "# Calculate the proportion of accidents without a Cross Street Name\n",
    "proportion_missing_cross_street = missing_cross_street_count / total_accidents\n",
    "\n",
    "proportion_missing_cross_street\n"
   ]
  }
 ],
 "metadata": {
  "kernelspec": {
   "display_name": "Python 3 (ipykernel)",
   "language": "python",
   "name": "python3"
  },
  "language_info": {
   "codemirror_mode": {
    "name": "ipython",
    "version": 3
   },
   "file_extension": ".py",
   "mimetype": "text/x-python",
   "name": "python",
   "nbconvert_exporter": "python",
   "pygments_lexer": "ipython3",
   "version": "3.10.9"
  }
 },
 "nbformat": 4,
 "nbformat_minor": 5
}
